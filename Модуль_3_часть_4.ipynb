{
 "cells": [
  {
   "cell_type": "code",
   "execution_count": 1,
   "id": "ae1caf63",
   "metadata": {},
   "outputs": [],
   "source": [
    "import json"
   ]
  },
  {
   "cell_type": "code",
   "execution_count": 4,
   "id": "48be4afe",
   "metadata": {},
   "outputs": [],
   "source": [
    "def register(): # функция ввода нового клиента логин/пароль\n",
    "# Поскольку, в условии это не оговаривалось, то будем считать, что начальный файл уже существует (пустой или частично заполненный)\n",
    "# В идеале, сначало, надо проверить файл на наличие и т.д. \n",
    "    with open('dict_login_passw.json', encoding='utf8') as f:\n",
    "        data = json.load(f)\n",
    "        \n",
    "    login = str(input(\"Введите логин: \")) # вводим новый логин и проверим сразу существование клиента с таким логином\n",
    "    if login in data:\n",
    "        print('Пользователь с таким логином уже существует!\\nПопробуйте еще раз.')\n",
    "        return register() #перезапускаем функцию, если пользователь с таким именем существует\n",
    "    passwd = str(input(\"Введите пароль: \"))\n",
    "    data[login] = passwd\n",
    "\n",
    "    with open('dict_login_passw.json', 'w', encoding='utf8') as dict_update: #Открываем файл\n",
    "        json.dump(data, dict_update, ensure_ascii=False, indent=2)\n",
    "    return\n"
   ]
  },
  {
   "cell_type": "code",
   "execution_count": 3,
   "id": "5c40db41",
   "metadata": {},
   "outputs": [],
   "source": [
    "def login_function(): # функция проверки логин/пароль для существующего пользователя\n",
    "    with open('dict_login_passw.json', encoding='utf8') as f:\n",
    "        data = json.load(f)\n",
    "    \n",
    "    login = str(input(\"Введите логин: \"))\n",
    "    passwd = str(input(\"Введите пароль: \"))\n",
    "    \n",
    "    if (login, passwd) in data.items():\n",
    "        print('Пара логин/пароль - верны.\\nДобро пожаловать в систему.')\n",
    "    else:\n",
    "        print('Пара логин/пароль - не найдена.')\n",
    "    return"
   ]
  },
  {
   "cell_type": "code",
   "execution_count": null,
   "id": "ffd2e595",
   "metadata": {},
   "outputs": [],
   "source": [
    "register()"
   ]
  },
  {
   "cell_type": "code",
   "execution_count": null,
   "id": "d4e8ac55",
   "metadata": {},
   "outputs": [],
   "source": [
    "login_function()"
   ]
  }
 ],
 "metadata": {
  "kernelspec": {
   "display_name": "Python 3 (ipykernel)",
   "language": "python",
   "name": "python3"
  },
  "language_info": {
   "codemirror_mode": {
    "name": "ipython",
    "version": 3
   },
   "file_extension": ".py",
   "mimetype": "text/x-python",
   "name": "python",
   "nbconvert_exporter": "python",
   "pygments_lexer": "ipython3",
   "version": "3.9.12"
  }
 },
 "nbformat": 4,
 "nbformat_minor": 5
}
