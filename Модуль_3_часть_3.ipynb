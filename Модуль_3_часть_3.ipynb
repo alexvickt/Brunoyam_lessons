{
 "cells": [
  {
   "cell_type": "markdown",
   "id": "04943caa",
   "metadata": {},
   "source": [
    "#### Уровень 1\n",
    "\n",
    "Напишите функцию, которая считает площадь треугольника по трём сторонам"
   ]
  },
  {
   "cell_type": "code",
   "execution_count": 1,
   "id": "f93cf956",
   "metadata": {},
   "outputs": [],
   "source": [
    "# воспользуемся формулой Герона\n",
    "def area(a, b, c):\n",
    "    p = (a+b+c)/2\n",
    "    s = (p*(p-a)*(p-b)*(p-c))**(0.5)\n",
    "    return round(s, 2)"
   ]
  },
  {
   "cell_type": "code",
   "execution_count": 2,
   "id": "ab8babe2",
   "metadata": {},
   "outputs": [
    {
     "data": {
      "text/plain": [
       "12.97"
      ]
     },
     "execution_count": 2,
     "metadata": {},
     "output_type": "execute_result"
    }
   ],
   "source": [
    "area(5, 7, 11)"
   ]
  },
  {
   "cell_type": "code",
   "execution_count": null,
   "id": "a9558d96",
   "metadata": {},
   "outputs": [],
   "source": []
  },
  {
   "cell_type": "markdown",
   "id": "1e36b2b0",
   "metadata": {},
   "source": [
    "#### Уровень 2\n",
    "\n",
    "Дана строка:\n",
    "\n",
    "\"Было просто пасмурно, дуло с севера\n",
    "<br>А к обеду насчитал сто градаций серого.\n",
    "<br>Так всегда, первого ноль девятого\n",
    "<br>Толи весь мир сошёл с ума, толи я - того...\n",
    "<br>На столе записка от неё смятая\n",
    "<br>Недопитый виски допиваю с матами.\n",
    "<br>Посмотрю в окно, допишу главу\n",
    "<br>Первое сентября, дворник жжёт листву.\n",
    "<br>Серым облакам наплевать на нас\n",
    "<br>Если знаешь как жить - живи\n",
    "<br>Ты хотела плыть как все - так плыви!\"\n",
    "\n",
    "Напишите функцию, которая возвращает все слова в строке, длина которых меньше 5"
   ]
  },
  {
   "cell_type": "code",
   "execution_count": 3,
   "id": "a38cdb70",
   "metadata": {},
   "outputs": [],
   "source": [
    "s = ''' Было просто пасмурно, дуло с севера\n",
    "А к обеду насчитал сто градаций серого.\n",
    "Так всегда, первого ноль девятого\n",
    "Толи весь мир сошёл с ума, толи я - того...\n",
    "На столе записка от неё смятая\n",
    "Недопитый виски допиваю с матами.\n",
    "Посмотрю в окно, допишу главу\n",
    "Первое сентября, дворник жжёт листву.\n",
    "Серым облакам наплевать на нас\n",
    "Если знаешь как жить - живи\n",
    "Ты хотела плыть как все - так плыви!'''"
   ]
  },
  {
   "cell_type": "code",
   "execution_count": 4,
   "id": "89ea9290",
   "metadata": {},
   "outputs": [],
   "source": [
    "def delete_words(s):\n",
    "    list_result = []\n",
    "    for i in '''!()-[]{};?@#$%:'\"\\,./^&amp;*_''': #Удалим все знаки препинания\n",
    "        if i in s:\n",
    "            s = s.replace(i, '')\n",
    "    s_list = s.split() #сделаем из строки лист списка слов разбив по пробелам\n",
    "    for i in s_list:\n",
    "        if len(i) < 5:\n",
    "            list_result.append(i)\n",
    "    return print(list_result, sep= ' ')"
   ]
  },
  {
   "cell_type": "code",
   "execution_count": 5,
   "id": "54b3071f",
   "metadata": {},
   "outputs": [
    {
     "name": "stdout",
     "output_type": "stream",
     "text": [
      "['Было', 'дуло', 'с', 'А', 'к', 'сто', 'Так', 'ноль', 'Толи', 'весь', 'мир', 'с', 'ума', 'толи', 'я', 'того', 'На', 'от', 'неё', 'с', 'в', 'окно', 'жжёт', 'на', 'нас', 'Если', 'как', 'жить', 'живи', 'Ты', 'как', 'все', 'так']\n"
     ]
    }
   ],
   "source": [
    "delete_words(s)"
   ]
  },
  {
   "cell_type": "code",
   "execution_count": null,
   "id": "e4aa2ead",
   "metadata": {},
   "outputs": [],
   "source": []
  },
  {
   "cell_type": "markdown",
   "id": "b3b631ab",
   "metadata": {},
   "source": [
    "#### Уровень 3\n",
    "\n",
    "У вас есть массив чисел, напишите функцию, которая составляет из них максимальное число. Например:\n",
    "\n",
    "    [56, 9, 11, 2] --> 956211\n",
    "    [3, 81, 5] --> 8153"
   ]
  },
  {
   "cell_type": "code",
   "execution_count": 6,
   "id": "567af2ce",
   "metadata": {},
   "outputs": [],
   "source": [
    "def max_number(list_numbers):\n",
    "    list_str = list(map(str, list_numbers)) #меняем данные типа Int на str\n",
    "    list_str = sorted(list_str, reverse=True) #сортируем в обратном порядке\n",
    "    max_numb = ''.join(list_str)\n",
    "    return int(max_numb)"
   ]
  },
  {
   "cell_type": "code",
   "execution_count": 7,
   "id": "e487bdbd",
   "metadata": {},
   "outputs": [
    {
     "data": {
      "text/plain": [
       "956211"
      ]
     },
     "execution_count": 7,
     "metadata": {},
     "output_type": "execute_result"
    }
   ],
   "source": [
    "l = [56, 9, 11, 2]\n",
    "max_number(l)"
   ]
  },
  {
   "cell_type": "code",
   "execution_count": null,
   "id": "176b70ec",
   "metadata": {},
   "outputs": [],
   "source": []
  }
 ],
 "metadata": {
  "kernelspec": {
   "display_name": "Python 3 (ipykernel)",
   "language": "python",
   "name": "python3"
  },
  "language_info": {
   "codemirror_mode": {
    "name": "ipython",
    "version": 3
   },
   "file_extension": ".py",
   "mimetype": "text/x-python",
   "name": "python",
   "nbconvert_exporter": "python",
   "pygments_lexer": "ipython3",
   "version": "3.9.12"
  }
 },
 "nbformat": 4,
 "nbformat_minor": 5
}
