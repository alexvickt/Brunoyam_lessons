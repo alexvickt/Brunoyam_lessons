{
 "cells": [
  {
   "cell_type": "markdown",
   "id": "277c93fe",
   "metadata": {},
   "source": [
    "#### Уровень 1\n",
    "Вклад в банке составляет *x* рублей. Ежегодно он увеличивается на *p* процентов, после чего дробная часть копеек отбрасывается. <br>Определите, через сколько лет вклад составит не менее *y* рублей.<br>*x, y, p* - вводятся с клавиатуры"
   ]
  },
  {
   "cell_type": "code",
   "execution_count": 2,
   "id": "28428f9d",
   "metadata": {},
   "outputs": [
    {
     "name": "stdout",
     "output_type": "stream",
     "text": [
      "Введите изначальный вклад: 100\n",
      "Введите % начислений в год: 5\n",
      "Введите сумму интересующих накоплений: 1000000\n",
      "Для достижения суммы не менее 1000000, при начальнов вложении 100 и процентном начислении 5.\n",
      "Понадобится 191 год/года/лет\n"
     ]
    }
   ],
   "source": [
    "a = int(input('Введите изначальный вклад: '))\n",
    "p = int(input('Введите % начислений в год: '))\n",
    "y = int(input('Введите сумму интересующих накоплений: '))\n",
    "count_years = 0\n",
    "b = a\n",
    "# понятно, что если изначальный вклад + % после первого года не увеличит целую часть, то сумма никогда не будет достигнутой.\n",
    "# Исключаем это в if\n",
    "if a == int(a + a*p/100):\n",
    "    print('Вам никогда не достичь таких накоплений')\n",
    "else:\n",
    "    while a < y:\n",
    "        a = int(a + a*p/100)\n",
    "        count_years += 1\n",
    "    print(f'Для достижения суммы не менее {y}, при начальнов вложении {b} и процентном начислении {p}.\\nПонадобится {count_years} год/года/лет')\n",
    "\n"
   ]
  },
  {
   "cell_type": "code",
   "execution_count": null,
   "id": "b4c14db7",
   "metadata": {},
   "outputs": [],
   "source": []
  },
  {
   "cell_type": "markdown",
   "id": "3670d10f",
   "metadata": {},
   "source": [
    "#### Уровень 2\n",
    "Мы знаем, что *for* - цикл с заданным числом повторений, а *while* - цикл с условием. Имеет место утверждение, что цикл *for* - частный случай цикла *while*. Чтобы в этом убедиться предлагается сделать следующее.<br>Пусть *n* - число повторений, вводится с клавиатуры.<br>Выведите через *print* строку '*for* - частный случай цикла *while*' *n* раз, используя цикл while."
   ]
  },
  {
   "cell_type": "code",
   "execution_count": 5,
   "id": "5650137e",
   "metadata": {},
   "outputs": [
    {
     "name": "stdout",
     "output_type": "stream",
     "text": [
      "Введите число повторений: 6\n",
      "1. for - частный случай цикла while\n",
      "2. for - частный случай цикла while\n",
      "3. for - частный случай цикла while\n",
      "4. for - частный случай цикла while\n",
      "5. for - частный случай цикла while\n",
      "6. for - частный случай цикла while\n"
     ]
    }
   ],
   "source": [
    "n = int(input('Введите число повторений: '))\n",
    "k = 1\n",
    "while n > 0:\n",
    "    print(f'{k}. for - частный случай цикла while')\n",
    "    k += 1\n",
    "    n -= 1"
   ]
  },
  {
   "cell_type": "code",
   "execution_count": null,
   "id": "62ab37f0",
   "metadata": {},
   "outputs": [],
   "source": []
  },
  {
   "cell_type": "markdown",
   "id": "d7bee1f3",
   "metadata": {},
   "source": [
    "#### Уровень 3\n",
    "Целое число вводится с клавиатуры. Посчитайте сумму цифр данного числа."
   ]
  },
  {
   "cell_type": "code",
   "execution_count": 15,
   "id": "7e4fb1c1",
   "metadata": {},
   "outputs": [
    {
     "name": "stdout",
     "output_type": "stream",
     "text": [
      "15489\n",
      "Сумма цифр числа 15489 равна 27.\n"
     ]
    }
   ],
   "source": [
    "a = int(input())\n",
    "b = a #как-то мне это не очень нравится\n",
    "summ = 0\n",
    "while b > 0:\n",
    "    summ += b % 10\n",
    "    b = b // 10\n",
    "print(f'Сумма цифр числа {a} равна {summ}.')\n"
   ]
  },
  {
   "cell_type": "code",
   "execution_count": null,
   "id": "0fcd296d",
   "metadata": {},
   "outputs": [],
   "source": []
  },
  {
   "cell_type": "code",
   "execution_count": null,
   "id": "e87436a4",
   "metadata": {},
   "outputs": [],
   "source": []
  },
  {
   "cell_type": "code",
   "execution_count": null,
   "id": "05746ad9",
   "metadata": {},
   "outputs": [],
   "source": []
  },
  {
   "cell_type": "code",
   "execution_count": null,
   "id": "dd613e1f",
   "metadata": {},
   "outputs": [],
   "source": []
  }
 ],
 "metadata": {
  "kernelspec": {
   "display_name": "Python 3 (ipykernel)",
   "language": "python",
   "name": "python3"
  },
  "language_info": {
   "codemirror_mode": {
    "name": "ipython",
    "version": 3
   },
   "file_extension": ".py",
   "mimetype": "text/x-python",
   "name": "python",
   "nbconvert_exporter": "python",
   "pygments_lexer": "ipython3",
   "version": "3.9.12"
  }
 },
 "nbformat": 4,
 "nbformat_minor": 5
}
