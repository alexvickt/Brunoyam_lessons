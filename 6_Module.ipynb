{
 "cells": [
  {
   "cell_type": "code",
   "execution_count": 1,
   "id": "e1ead846",
   "metadata": {},
   "outputs": [],
   "source": [
    "import pandas as pd\n",
    "import sqlite3 as sl"
   ]
  },
  {
   "cell_type": "code",
   "execution_count": 6,
   "id": "45f17430",
   "metadata": {},
   "outputs": [],
   "source": [
    "# открываем файл с базой данных\n",
    "sql = sl.connect('Boston_Celtics_Team.db')"
   ]
  },
  {
   "cell_type": "code",
   "execution_count": 7,
   "id": "de06be73",
   "metadata": {},
   "outputs": [],
   "source": [
    "# таблица игроков команды - 'players'\n",
    "full_name = ['Jayson Tatum', 'Jaylen Brown', 'Al Horford', 'Malcolm Brogdon', 'Marcus Smart',\n",
    "             'Derrick White', 'Luke Kornet', 'Payton Pritchard','Grant Williams', 'Sam Hauser']\n",
    "\n",
    "dob = ['10/24/1996', '3/3/1998', '6/3/1986', '12/11/1992', '3/6/1994',\n",
    "       '7/2/1994', '10/17/1997', '8/8/1988', '11/30/1998', '7/1/1991']\n",
    "\n",
    "height = [198, 207, 210, 195, 195, 195, 210, 186, 184, 185]\n",
    "weight = [101, 95, 109, 98, 90, 88, 93, 89,92, 90]\n",
    "role = ['SG', 'SF', 'C', 'PG', 'PG', 'C', 'PF', 'PF', 'C', 'PG']\n",
    "\n",
    "player_df = pd.DataFrame({'name': full_name, 'DOB': dob, 'Role': role, 'Height': height, 'Weight': weight })"
   ]
  },
  {
   "cell_type": "code",
   "execution_count": 8,
   "id": "3205a37c",
   "metadata": {},
   "outputs": [
    {
     "data": {
      "text/plain": [
       "10"
      ]
     },
     "execution_count": 8,
     "metadata": {},
     "output_type": "execute_result"
    }
   ],
   "source": [
    "player_df.to_sql('players', sql, if_exists='replace')"
   ]
  },
  {
   "cell_type": "code",
   "execution_count": 101,
   "id": "e51db0fe",
   "metadata": {},
   "outputs": [],
   "source": [
    "#df = pd.read_sql(\"SELECT * from players\", sql) #можем проверить, что получилось"
   ]
  },
  {
   "cell_type": "code",
   "execution_count": 9,
   "id": "d983ce65",
   "metadata": {},
   "outputs": [
    {
     "data": {
      "text/plain": [
       "5"
      ]
     },
     "execution_count": 9,
     "metadata": {},
     "output_type": "execute_result"
    }
   ],
   "source": [
    "# таблица амплуа игроков - 'Role_Player', один ко многим с 'Player'\n",
    "id_role = ['PG', 'SF', 'C', 'SG', 'PF']\n",
    "role = ['Point_Guard', 'Small_Forward', 'Center', 'Shooting_Guard', 'Power_Forward']\n",
    "\n",
    "role_df = pd.DataFrame({'Id_Role': id_role, 'Role': role})\n",
    "role_df.set_index('Id_Role')\n",
    "role_df.to_sql('role_player', sql, if_exists='replace')"
   ]
  },
  {
   "cell_type": "code",
   "execution_count": null,
   "id": "aa46062d",
   "metadata": {},
   "outputs": [],
   "source": [
    "# df = pd.read_sql(\"SELECT * from Role_Player\", sql, index_col='Id_Role') #можем проверить, что получилось"
   ]
  },
  {
   "cell_type": "code",
   "execution_count": 10,
   "id": "1c20ee82",
   "metadata": {},
   "outputs": [
    {
     "data": {
      "text/plain": [
       "29"
      ]
     },
     "execution_count": 10,
     "metadata": {},
     "output_type": "execute_result"
    }
   ],
   "source": [
    "# список комманд оппонентов\n",
    "opponent_teams = ['Atlanta Hawks', 'Brooklyn Nets', 'Charlotte Hornets', 'Chicago Bulls', 'Cleveland Cavaliers',\n",
    "                  'Dallas Mavericks', 'Denver Nuggets', 'Detroit Pistons', 'Golden State Warriors', 'Houston Rockets',\n",
    "                  'Indiana Pacers', 'Los Angeles Clippers', 'Los Angeles Lakers','Memphis Grizzlies', 'Miami Heat',\n",
    "                  'Milwaukee Bucks', 'Minnesota Timberwolves','New Orleans Pelicans', 'New York Knicks', 'Oklahoma City Thunder',\n",
    "                  'Orlando Magic', 'Philadelphia 76ers', 'Phoenix Suns', 'Portland Trail Blazers', 'Sacramento Kings',\n",
    "                  'San Antonio Spurs', 'Toronto Raptors', 'Utah Jazz', 'Washington Wizards']\n",
    "nba_teams = pd.DataFrame({'Name_Team': opponent_teams})\n",
    "nba_teams.to_sql('NBA_Teams', sql, index_label=\"id\", if_exists='replace')"
   ]
  },
  {
   "cell_type": "code",
   "execution_count": 60,
   "id": "5f879ee0",
   "metadata": {},
   "outputs": [],
   "source": [
    "# df = pd.read_sql(\"SELECT * from NBA_Teams\", sql) #можем проверить, что получилось"
   ]
  },
  {
   "cell_type": "markdown",
   "id": "f3a1e4d0",
   "metadata": {},
   "source": [
    "Дальше, есть небольшой csv файл со статистикой Соперник/Дата/Игрок_Бостон/Кол_минут/Кол_очков, который нужно добавить в БД.\n",
    "\n",
    "Связь 'Players' и 'Matches' будет 'many-to-many'."
   ]
  },
  {
   "cell_type": "code",
   "execution_count": 11,
   "id": "60af5f16",
   "metadata": {},
   "outputs": [
    {
     "data": {
      "text/plain": [
       "60"
      ]
     },
     "execution_count": 11,
     "metadata": {},
     "output_type": "execute_result"
    }
   ],
   "source": [
    "# 'matches'\n",
    "df = pd.read_csv('Games.csv', encoding='utf-8',  delimiter=';')\n",
    "df.to_sql('matches', sql, index_label=\"id\", if_exists='replace')"
   ]
  },
  {
   "cell_type": "code",
   "execution_count": 85,
   "id": "6561b0c5",
   "metadata": {},
   "outputs": [],
   "source": [
    "# df = pd.read_sql(\"SELECT * from Matches\", sql, index_col='id') #можем проверить, что получилось"
   ]
  },
  {
   "cell_type": "code",
   "execution_count": null,
   "id": "462a26b0",
   "metadata": {},
   "outputs": [],
   "source": []
  },
  {
   "cell_type": "code",
   "execution_count": 12,
   "id": "472eba40",
   "metadata": {},
   "outputs": [
    {
     "data": {
      "text/html": [
       "<div>\n",
       "<style scoped>\n",
       "    .dataframe tbody tr th:only-of-type {\n",
       "        vertical-align: middle;\n",
       "    }\n",
       "\n",
       "    .dataframe tbody tr th {\n",
       "        vertical-align: top;\n",
       "    }\n",
       "\n",
       "    .dataframe thead th {\n",
       "        text-align: right;\n",
       "    }\n",
       "</style>\n",
       "<table border=\"1\" class=\"dataframe\">\n",
       "  <thead>\n",
       "    <tr style=\"text-align: right;\">\n",
       "      <th></th>\n",
       "      <th>index</th>\n",
       "      <th>name</th>\n",
       "      <th>DOB</th>\n",
       "      <th>Role</th>\n",
       "      <th>Height</th>\n",
       "      <th>Weight</th>\n",
       "    </tr>\n",
       "  </thead>\n",
       "  <tbody>\n",
       "    <tr>\n",
       "      <th>0</th>\n",
       "      <td>0</td>\n",
       "      <td>Jayson Tatum</td>\n",
       "      <td>10/24/1996</td>\n",
       "      <td>SG</td>\n",
       "      <td>198</td>\n",
       "      <td>101</td>\n",
       "    </tr>\n",
       "    <tr>\n",
       "      <th>1</th>\n",
       "      <td>1</td>\n",
       "      <td>Jaylen Brown</td>\n",
       "      <td>3/3/1998</td>\n",
       "      <td>SF</td>\n",
       "      <td>207</td>\n",
       "      <td>95</td>\n",
       "    </tr>\n",
       "    <tr>\n",
       "      <th>2</th>\n",
       "      <td>2</td>\n",
       "      <td>Al Horford</td>\n",
       "      <td>6/3/1986</td>\n",
       "      <td>C</td>\n",
       "      <td>210</td>\n",
       "      <td>109</td>\n",
       "    </tr>\n",
       "    <tr>\n",
       "      <th>3</th>\n",
       "      <td>3</td>\n",
       "      <td>Malcolm Brogdon</td>\n",
       "      <td>12/11/1992</td>\n",
       "      <td>PG</td>\n",
       "      <td>195</td>\n",
       "      <td>98</td>\n",
       "    </tr>\n",
       "    <tr>\n",
       "      <th>4</th>\n",
       "      <td>4</td>\n",
       "      <td>Marcus Smart</td>\n",
       "      <td>3/6/1994</td>\n",
       "      <td>PG</td>\n",
       "      <td>195</td>\n",
       "      <td>90</td>\n",
       "    </tr>\n",
       "    <tr>\n",
       "      <th>5</th>\n",
       "      <td>5</td>\n",
       "      <td>Derrick White</td>\n",
       "      <td>7/2/1994</td>\n",
       "      <td>C</td>\n",
       "      <td>195</td>\n",
       "      <td>88</td>\n",
       "    </tr>\n",
       "    <tr>\n",
       "      <th>6</th>\n",
       "      <td>6</td>\n",
       "      <td>Luke Kornet</td>\n",
       "      <td>10/17/1997</td>\n",
       "      <td>PF</td>\n",
       "      <td>210</td>\n",
       "      <td>93</td>\n",
       "    </tr>\n",
       "    <tr>\n",
       "      <th>7</th>\n",
       "      <td>7</td>\n",
       "      <td>Payton Pritchard</td>\n",
       "      <td>8/8/1988</td>\n",
       "      <td>PF</td>\n",
       "      <td>186</td>\n",
       "      <td>89</td>\n",
       "    </tr>\n",
       "    <tr>\n",
       "      <th>8</th>\n",
       "      <td>8</td>\n",
       "      <td>Grant Williams</td>\n",
       "      <td>11/30/1998</td>\n",
       "      <td>C</td>\n",
       "      <td>184</td>\n",
       "      <td>92</td>\n",
       "    </tr>\n",
       "    <tr>\n",
       "      <th>9</th>\n",
       "      <td>9</td>\n",
       "      <td>Sam Hauser</td>\n",
       "      <td>7/1/1991</td>\n",
       "      <td>PG</td>\n",
       "      <td>185</td>\n",
       "      <td>90</td>\n",
       "    </tr>\n",
       "  </tbody>\n",
       "</table>\n",
       "</div>"
      ],
      "text/plain": [
       "   index              name         DOB Role  Height  Weight\n",
       "0      0      Jayson Tatum  10/24/1996   SG     198     101\n",
       "1      1      Jaylen Brown    3/3/1998   SF     207      95\n",
       "2      2        Al Horford    6/3/1986    C     210     109\n",
       "3      3   Malcolm Brogdon  12/11/1992   PG     195      98\n",
       "4      4      Marcus Smart    3/6/1994   PG     195      90\n",
       "5      5     Derrick White    7/2/1994    C     195      88\n",
       "6      6       Luke Kornet  10/17/1997   PF     210      93\n",
       "7      7  Payton Pritchard    8/8/1988   PF     186      89\n",
       "8      8    Grant Williams  11/30/1998    C     184      92\n",
       "9      9        Sam Hauser    7/1/1991   PG     185      90"
      ]
     },
     "execution_count": 12,
     "metadata": {},
     "output_type": "execute_result"
    }
   ],
   "source": [
    "pd.read_sql('SELECT * FROM players', sql)"
   ]
  },
  {
   "cell_type": "code",
   "execution_count": 13,
   "id": "f1811864",
   "metadata": {},
   "outputs": [
    {
     "data": {
      "text/html": [
       "<div>\n",
       "<style scoped>\n",
       "    .dataframe tbody tr th:only-of-type {\n",
       "        vertical-align: middle;\n",
       "    }\n",
       "\n",
       "    .dataframe tbody tr th {\n",
       "        vertical-align: top;\n",
       "    }\n",
       "\n",
       "    .dataframe thead th {\n",
       "        text-align: right;\n",
       "    }\n",
       "</style>\n",
       "<table border=\"1\" class=\"dataframe\">\n",
       "  <thead>\n",
       "    <tr style=\"text-align: right;\">\n",
       "      <th></th>\n",
       "      <th>id</th>\n",
       "      <th>Team</th>\n",
       "      <th>Date</th>\n",
       "      <th>Boston_Team</th>\n",
       "      <th>Mins</th>\n",
       "      <th>PTS</th>\n",
       "    </tr>\n",
       "  </thead>\n",
       "  <tbody>\n",
       "    <tr>\n",
       "      <th>0</th>\n",
       "      <td>0</td>\n",
       "      <td>Philadelphia 76ers</td>\n",
       "      <td>22.10.2018</td>\n",
       "      <td>Jayson Tatum</td>\n",
       "      <td>38</td>\n",
       "      <td>35</td>\n",
       "    </tr>\n",
       "    <tr>\n",
       "      <th>1</th>\n",
       "      <td>1</td>\n",
       "      <td>Philadelphia 76ers</td>\n",
       "      <td>22.10.2018</td>\n",
       "      <td>Jaylen Brown</td>\n",
       "      <td>38</td>\n",
       "      <td>35</td>\n",
       "    </tr>\n",
       "    <tr>\n",
       "      <th>2</th>\n",
       "      <td>2</td>\n",
       "      <td>Philadelphia 76ers</td>\n",
       "      <td>22.10.2018</td>\n",
       "      <td>Marcus Smart</td>\n",
       "      <td>36</td>\n",
       "      <td>14</td>\n",
       "    </tr>\n",
       "    <tr>\n",
       "      <th>3</th>\n",
       "      <td>3</td>\n",
       "      <td>Philadelphia 76ers</td>\n",
       "      <td>22.10.2018</td>\n",
       "      <td>Derrick White</td>\n",
       "      <td>24</td>\n",
       "      <td>2</td>\n",
       "    </tr>\n",
       "    <tr>\n",
       "      <th>4</th>\n",
       "      <td>4</td>\n",
       "      <td>Philadelphia 76ers</td>\n",
       "      <td>22.10.2018</td>\n",
       "      <td>Al Horford</td>\n",
       "      <td>23</td>\n",
       "      <td>6</td>\n",
       "    </tr>\n",
       "  </tbody>\n",
       "</table>\n",
       "</div>"
      ],
      "text/plain": [
       "   id                Team        Date    Boston_Team  Mins  PTS\n",
       "0   0  Philadelphia 76ers  22.10.2018   Jayson Tatum    38   35\n",
       "1   1  Philadelphia 76ers  22.10.2018   Jaylen Brown    38   35\n",
       "2   2  Philadelphia 76ers  22.10.2018   Marcus Smart    36   14\n",
       "3   3  Philadelphia 76ers  22.10.2018  Derrick White    24    2\n",
       "4   4  Philadelphia 76ers  22.10.2018     Al Horford    23    6"
      ]
     },
     "execution_count": 13,
     "metadata": {},
     "output_type": "execute_result"
    }
   ],
   "source": [
    "pd.read_sql('SELECT * FROM Matches', sql).head()"
   ]
  },
  {
   "cell_type": "code",
   "execution_count": 14,
   "id": "5133b959",
   "metadata": {},
   "outputs": [
    {
     "data": {
      "text/html": [
       "<div>\n",
       "<style scoped>\n",
       "    .dataframe tbody tr th:only-of-type {\n",
       "        vertical-align: middle;\n",
       "    }\n",
       "\n",
       "    .dataframe tbody tr th {\n",
       "        vertical-align: top;\n",
       "    }\n",
       "\n",
       "    .dataframe thead th {\n",
       "        text-align: right;\n",
       "    }\n",
       "</style>\n",
       "<table border=\"1\" class=\"dataframe\">\n",
       "  <thead>\n",
       "    <tr style=\"text-align: right;\">\n",
       "      <th></th>\n",
       "      <th>Boston_Team</th>\n",
       "      <th>Mins</th>\n",
       "      <th>PTS</th>\n",
       "      <th>Team</th>\n",
       "    </tr>\n",
       "  </thead>\n",
       "  <tbody>\n",
       "    <tr>\n",
       "      <th>0</th>\n",
       "      <td>Jayson Tatum</td>\n",
       "      <td>39</td>\n",
       "      <td>39</td>\n",
       "      <td>Memphis Grizzlies</td>\n",
       "    </tr>\n",
       "    <tr>\n",
       "      <th>1</th>\n",
       "      <td>Jayson Tatum</td>\n",
       "      <td>38</td>\n",
       "      <td>35</td>\n",
       "      <td>Philadelphia 76ers</td>\n",
       "    </tr>\n",
       "    <tr>\n",
       "      <th>2</th>\n",
       "      <td>Jayson Tatum</td>\n",
       "      <td>37</td>\n",
       "      <td>34</td>\n",
       "      <td>Denver Nuggets</td>\n",
       "    </tr>\n",
       "    <tr>\n",
       "      <th>3</th>\n",
       "      <td>Jayson Tatum</td>\n",
       "      <td>36</td>\n",
       "      <td>29</td>\n",
       "      <td>Miami Heat</td>\n",
       "    </tr>\n",
       "    <tr>\n",
       "      <th>4</th>\n",
       "      <td>Jayson Tatum</td>\n",
       "      <td>35</td>\n",
       "      <td>26</td>\n",
       "      <td>Chicago Bulls</td>\n",
       "    </tr>\n",
       "    <tr>\n",
       "      <th>5</th>\n",
       "      <td>Jayson Tatum</td>\n",
       "      <td>33</td>\n",
       "      <td>19</td>\n",
       "      <td>Atlanta Hawks</td>\n",
       "    </tr>\n",
       "  </tbody>\n",
       "</table>\n",
       "</div>"
      ],
      "text/plain": [
       "    Boston_Team  Mins  PTS                Team\n",
       "0  Jayson Tatum    39   39   Memphis Grizzlies\n",
       "1  Jayson Tatum    38   35  Philadelphia 76ers\n",
       "2  Jayson Tatum    37   34      Denver Nuggets\n",
       "3  Jayson Tatum    36   29          Miami Heat\n",
       "4  Jayson Tatum    35   26       Chicago Bulls\n",
       "5  Jayson Tatum    33   19       Atlanta Hawks"
      ]
     },
     "execution_count": 14,
     "metadata": {},
     "output_type": "execute_result"
    }
   ],
   "source": [
    "# Просто посмотрим, как играл лидер команды )\n",
    "pd.read_sql(\n",
    "    '''SELECT Boston_Team, Mins, PTS, Team\n",
    "         FROM Matches\n",
    "        WHERE Boston_Team='Jayson Tatum'\n",
    "     ORDER BY PTS DESC\n",
    "    ''', sql)"
   ]
  },
  {
   "cell_type": "code",
   "execution_count": 15,
   "id": "f18f8e40",
   "metadata": {},
   "outputs": [
    {
     "data": {
      "text/html": [
       "<div>\n",
       "<style scoped>\n",
       "    .dataframe tbody tr th:only-of-type {\n",
       "        vertical-align: middle;\n",
       "    }\n",
       "\n",
       "    .dataframe tbody tr th {\n",
       "        vertical-align: top;\n",
       "    }\n",
       "\n",
       "    .dataframe thead th {\n",
       "        text-align: right;\n",
       "    }\n",
       "</style>\n",
       "<table border=\"1\" class=\"dataframe\">\n",
       "  <thead>\n",
       "    <tr style=\"text-align: right;\">\n",
       "      <th></th>\n",
       "      <th>Boston_Team</th>\n",
       "      <th>Role</th>\n",
       "      <th>Total_Mins</th>\n",
       "      <th>Total_Points</th>\n",
       "      <th>Average_PTS</th>\n",
       "    </tr>\n",
       "  </thead>\n",
       "  <tbody>\n",
       "    <tr>\n",
       "      <th>0</th>\n",
       "      <td>Al Horford</td>\n",
       "      <td>C</td>\n",
       "      <td>174</td>\n",
       "      <td>66</td>\n",
       "      <td>11</td>\n",
       "    </tr>\n",
       "    <tr>\n",
       "      <th>1</th>\n",
       "      <td>Grant Williams</td>\n",
       "      <td>C</td>\n",
       "      <td>162</td>\n",
       "      <td>58</td>\n",
       "      <td>9</td>\n",
       "    </tr>\n",
       "    <tr>\n",
       "      <th>2</th>\n",
       "      <td>Jaylen Brown</td>\n",
       "      <td>SF</td>\n",
       "      <td>203</td>\n",
       "      <td>152</td>\n",
       "      <td>25</td>\n",
       "    </tr>\n",
       "    <tr>\n",
       "      <th>3</th>\n",
       "      <td>Jayson Tatum</td>\n",
       "      <td>SG</td>\n",
       "      <td>218</td>\n",
       "      <td>182</td>\n",
       "      <td>30</td>\n",
       "    </tr>\n",
       "    <tr>\n",
       "      <th>4</th>\n",
       "      <td>Marcus Smart</td>\n",
       "      <td>PG</td>\n",
       "      <td>159</td>\n",
       "      <td>52</td>\n",
       "      <td>10</td>\n",
       "    </tr>\n",
       "  </tbody>\n",
       "</table>\n",
       "</div>"
      ],
      "text/plain": [
       "      Boston_Team Role  Total_Mins  Total_Points  Average_PTS\n",
       "0      Al Horford    C         174            66           11\n",
       "1  Grant Williams    C         162            58            9\n",
       "2    Jaylen Brown   SF         203           152           25\n",
       "3    Jayson Tatum   SG         218           182           30\n",
       "4    Marcus Smart   PG         159            52           10"
      ]
     },
     "execution_count": 15,
     "metadata": {},
     "output_type": "execute_result"
    }
   ],
   "source": [
    "# попролбуем что-то посложнее )\n",
    "# получим небольшую сводную таблицу с ФИО_игрока, его амплуа, вычислим: сколько всего мин играл, сколько очков набрал и\n",
    "# среднее количество очков за матч. И посмотрим только тех, кто играл больше 25 минут за матч в среднем.\n",
    "pd.read_sql(\n",
    "    '''SELECT Boston_Team,\n",
    "              players.Role AS Role,\n",
    "              SUM(Mins)    AS Total_Mins,\n",
    "              SUM(PTS)     AS Total_Points,\n",
    "              (SUM(PTS)/COUNT(DISTINCT Team)) AS Average_PTS\n",
    "         FROM Matches  \n",
    "         JOIN players ON players.Name=Matches.Boston_Team\n",
    "     GROUP BY Boston_Team\n",
    "       HAVING (SUM(Mins)/COUNT(DISTINCT Team)) > 25\n",
    "    ''', sql)\n"
   ]
  },
  {
   "cell_type": "markdown",
   "id": "38969913",
   "metadata": {},
   "source": [
    "#### Сил на графики не хватило :("
   ]
  },
  {
   "cell_type": "code",
   "execution_count": null,
   "id": "51a784cb",
   "metadata": {},
   "outputs": [],
   "source": []
  }
 ],
 "metadata": {
  "kernelspec": {
   "display_name": "Python 3 (ipykernel)",
   "language": "python",
   "name": "python3"
  },
  "language_info": {
   "codemirror_mode": {
    "name": "ipython",
    "version": 3
   },
   "file_extension": ".py",
   "mimetype": "text/x-python",
   "name": "python",
   "nbconvert_exporter": "python",
   "pygments_lexer": "ipython3",
   "version": "3.9.12"
  }
 },
 "nbformat": 4,
 "nbformat_minor": 5
}
