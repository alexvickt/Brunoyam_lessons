{
 "cells": [
  {
   "cell_type": "markdown",
   "id": "daa584b4",
   "metadata": {},
   "source": [
    "#### Уровень 1\n",
    "Даны три целых числа. Определите, сколько среди них совпадающих. Программа должна вывести одно из чисел: 3 (если все совпадают), 2 (если два совпадает) или 0 (если все числа различны)."
   ]
  },
  {
   "cell_type": "code",
   "execution_count": 9,
   "id": "beca866c",
   "metadata": {},
   "outputs": [
    {
     "name": "stdout",
     "output_type": "stream",
     "text": [
      "Введите первое число 2\n",
      "Введите второе число 3\n",
      "Введите третье число 2\n",
      "2\n"
     ]
    }
   ],
   "source": [
    "a, b, c = int(input(\"Введите первое число \")), int(input(\"Введите второе число \")), int(input(\"Введите третье число \"))\n",
    "\n",
    "if a == b == c:\n",
    "    print(3)\n",
    "elif a != b != c != a:\n",
    "    print(0)\n",
    "else:\n",
    "    print(2)"
   ]
  },
  {
   "cell_type": "markdown",
   "id": "59ebf894",
   "metadata": {},
   "source": [
    "#### Уровень 2\n",
    "Ход ладьи"
   ]
  },
  {
   "cell_type": "code",
   "execution_count": 10,
   "id": "a9d0c2ce",
   "metadata": {},
   "outputs": [
    {
     "name": "stdout",
     "output_type": "stream",
     "text": [
      "Введите начальное положение ладьи, 1 <= x1 <= 8: 2\n",
      "Введите начальное положение ладьи, 1 <= y1 <= 8: 2\n",
      "Введите конечное положение ладьи, 1 <= x2 <= 8: 4\n",
      "Введите конечное положение ладьи, 1 <= y2 <= 8: 2\n",
      "YES\n"
     ]
    }
   ],
   "source": [
    "x1, y1 = int(input('Введите начальное положение ладьи, 1 <= x1 <= 8: ')), int(input('Введите начальное положение ладьи, 1 <= y1 <= 8: '))  \n",
    "x2, y2 = int(input('Введите конечное положение ладьи, 1 <= x2 <= 8: ')), int(input('Введите конечное положение ладьи, 1 <= y2 <= 8: '))  \n",
    "\n",
    "# условие того, что начальное и конечное положение может совпадать не рассматриваем\n",
    "if x1 == x2 or y1 == y2:\n",
    "    print('YES')\n",
    "else:\n",
    "    print('NO')"
   ]
  },
  {
   "cell_type": "markdown",
   "id": "f5a43325",
   "metadata": {},
   "source": [
    "#### Уровень 3\n",
    "Проверка пароля"
   ]
  },
  {
   "cell_type": "code",
   "execution_count": 7,
   "id": "be8f7252",
   "metadata": {},
   "outputs": [
    {
     "name": "stdout",
     "output_type": "stream",
     "text": [
      "jsdfhvb\n",
      "Пароль недопустимый, попробуйте еще раз\n",
      "ATGNFRNATHYN\n",
      "Пароль недопустимый, попробуйте еще раз\n",
      "lerkbjfnqekrnjb\n",
      "Пароль недопустимый, попробуйте еще раз\n",
      "jnjn\n",
      "Пароль недопустимый, попробуйте еще раз\n",
      "FDB\n",
      "Пароль недопустимый, попробуйте еще раз\n",
      "dfvDBHnhju\n",
      "Новый пароль  dfvDBHnhju\n"
     ]
    }
   ],
   "source": [
    "my_password = str(input())\n",
    "while len(my_password ) < 8 or my_password .lower() == my_password  or my_password .upper() == my_password :\n",
    "    print(\"Пароль недопустимый, попробуйте еще раз\")\n",
    "    my_password  = str(input())\n",
    "print('Новый пароль ', my_password )"
   ]
  },
  {
   "cell_type": "code",
   "execution_count": null,
   "id": "a4d8a22c",
   "metadata": {},
   "outputs": [],
   "source": []
  }
 ],
 "metadata": {
  "kernelspec": {
   "display_name": "Python 3 (ipykernel)",
   "language": "python",
   "name": "python3"
  },
  "language_info": {
   "codemirror_mode": {
    "name": "ipython",
    "version": 3
   },
   "file_extension": ".py",
   "mimetype": "text/x-python",
   "name": "python",
   "nbconvert_exporter": "python",
   "pygments_lexer": "ipython3",
   "version": "3.9.12"
  }
 },
 "nbformat": 4,
 "nbformat_minor": 5
}
