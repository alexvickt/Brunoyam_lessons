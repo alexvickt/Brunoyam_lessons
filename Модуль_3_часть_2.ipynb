{
 "cells": [
  {
   "cell_type": "markdown",
   "id": "7a65bcb2",
   "metadata": {},
   "source": [
    "#### Уровень 1\n",
    "Дан произвольный список.\n",
    "\n",
    "Для примера: l= [1, 4, 1, 6, \"hello\", \"a\", 5, \"hello\"]. Найдите в нём все повторяющиеся элементы.\n",
    "    \n",
    "Можно использовать цикл *for*. Найденные повторяющиеся элементы стоит добавлять в новый список, чтобы потом вывести на экран вместе."
   ]
  },
  {
   "cell_type": "code",
   "execution_count": 2,
   "id": "364d33d9",
   "metadata": {},
   "outputs": [],
   "source": [
    "l = [1, 4, 1, 6, '4', 'hello', 'привет', 'hello', 2, 4, 1, 5, 2, 1, 4, 5, 1, 6, '4', 'hello', 'привет', 'hello', 2, 4, 1, 5, ]"
   ]
  },
  {
   "cell_type": "code",
   "execution_count": 3,
   "id": "bde87e89",
   "metadata": {},
   "outputs": [
    {
     "name": "stdout",
     "output_type": "stream",
     "text": [
      "[1, 2, 4, 5, 6, '4', 'привет', 'hello']\n"
     ]
    }
   ],
   "source": [
    "result = []\n",
    "for i in set(l):\n",
    "    if l.count(i) > 1:\n",
    "        result.append(i)\n",
    "print(result)\n"
   ]
  },
  {
   "cell_type": "code",
   "execution_count": null,
   "id": "e03fd934",
   "metadata": {},
   "outputs": [],
   "source": []
  },
  {
   "cell_type": "markdown",
   "id": "b9dc0b54",
   "metadata": {},
   "source": [
    "#### Уровень 2\n",
    "Дана матрица (список из вложенных списков) размера N x N, найдите в ней максимальный элемент."
   ]
  },
  {
   "cell_type": "code",
   "execution_count": 4,
   "id": "dbf4ce54",
   "metadata": {},
   "outputs": [],
   "source": [
    "from random import randint"
   ]
  },
  {
   "cell_type": "code",
   "execution_count": 5,
   "id": "4e7e43e0",
   "metadata": {},
   "outputs": [],
   "source": [
    "n = 5\n",
    "m = [[randint(0, 100) for i in range(n)] for j in range(n)]"
   ]
  },
  {
   "cell_type": "code",
   "execution_count": 6,
   "id": "e42bd7ac",
   "metadata": {},
   "outputs": [
    {
     "data": {
      "text/plain": [
       "[[100, 71, 58, 77, 68],\n",
       " [80, 77, 90, 54, 18],\n",
       " [37, 24, 18, 8, 47],\n",
       " [61, 79, 94, 9, 89],\n",
       " [42, 63, 82, 27, 98]]"
      ]
     },
     "execution_count": 6,
     "metadata": {},
     "output_type": "execute_result"
    }
   ],
   "source": [
    "m"
   ]
  },
  {
   "cell_type": "code",
   "execution_count": 11,
   "id": "5084bee5",
   "metadata": {},
   "outputs": [
    {
     "name": "stdout",
     "output_type": "stream",
     "text": [
      "100\n"
     ]
    }
   ],
   "source": [
    "list_max = []\n",
    "for i in m:\n",
    "    list_max.append(max(i))\n",
    "print(max(list_max))"
   ]
  },
  {
   "cell_type": "code",
   "execution_count": null,
   "id": "92817343",
   "metadata": {},
   "outputs": [],
   "source": []
  },
  {
   "cell_type": "markdown",
   "id": "9d41eed1",
   "metadata": {},
   "source": [
    "#### Уровень 3\n",
    "\n",
    "Дан словарь. Поменяйте в нём местами ключи и значения."
   ]
  },
  {
   "cell_type": "code",
   "execution_count": 13,
   "id": "446acddf",
   "metadata": {},
   "outputs": [],
   "source": [
    "dict = {'name_1': 'id_1', 'name_2': 'id_2', 'name_3': 'id_3', 'name_4': 'id_4', 'name_5': 'id_5' }"
   ]
  },
  {
   "cell_type": "code",
   "execution_count": 15,
   "id": "d45f3598",
   "metadata": {},
   "outputs": [
    {
     "name": "stdout",
     "output_type": "stream",
     "text": [
      "{'name_1': 'id_1', 'name_2': 'id_2', 'name_3': 'id_3', 'name_4': 'id_4', 'name_5': 'id_5'}\n",
      "{'id_1': 'name_1', 'id_2': 'name_2', 'id_3': 'name_3', 'id_4': 'name_4', 'id_5': 'name_5'}\n"
     ]
    }
   ],
   "source": [
    "new_dict = {}\n",
    "for i,j in dict.items():\n",
    "    new_dict[j] = i\n",
    "print(dict, new_dict, sep= '\\n')"
   ]
  },
  {
   "cell_type": "code",
   "execution_count": null,
   "id": "6949d5b1",
   "metadata": {},
   "outputs": [],
   "source": []
  }
 ],
 "metadata": {
  "kernelspec": {
   "display_name": "Python 3 (ipykernel)",
   "language": "python",
   "name": "python3"
  },
  "language_info": {
   "codemirror_mode": {
    "name": "ipython",
    "version": 3
   },
   "file_extension": ".py",
   "mimetype": "text/x-python",
   "name": "python",
   "nbconvert_exporter": "python",
   "pygments_lexer": "ipython3",
   "version": "3.9.12"
  }
 },
 "nbformat": 4,
 "nbformat_minor": 5
}
