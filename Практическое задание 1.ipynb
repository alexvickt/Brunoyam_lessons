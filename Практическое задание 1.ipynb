{
 "cells": [
  {
   "cell_type": "markdown",
   "id": "c29ca6ca",
   "metadata": {},
   "source": [
    "#### Уровень 1\n",
    "\n",
    "Вывести в консоль (через функцию print) значение выражения:\n",
    "\n",
    "(5 + 7*5/8) / 3\\**5\n",
    "\n",
    "в формате: значение выражения: 𝑣𝑎𝑙𝑢𝑒, где 𝑣𝑎𝑙𝑢𝑒 – полученный результат."
   ]
  },
  {
   "cell_type": "code",
   "execution_count": 14,
   "id": "8ce2b888",
   "metadata": {},
   "outputs": [
    {
     "name": "stdout",
     "output_type": "stream",
     "text": [
      "0.038580246913580245\n"
     ]
    }
   ],
   "source": [
    "𝑣𝑎𝑙𝑢𝑒 = (5 + 7*5/8) / 3**5\n",
    "print(𝑣𝑎𝑙𝑢𝑒)"
   ]
  },
  {
   "cell_type": "markdown",
   "id": "d5ac6d1f",
   "metadata": {},
   "source": [
    "#### Уровень 2\n",
    "Длина Московской кольцевой автомобильной дороги – 109 километров. Байкер Вася\n",
    "стартует с нулевого километра МКАД и едет со скоростью 𝑣 километров в час. На какой\n",
    "отметке он остановится через 𝑡 часов? Значения скорости и времени считаются целыми\n",
    "числами."
   ]
  },
  {
   "cell_type": "code",
   "execution_count": 15,
   "id": "7fc0eee3",
   "metadata": {},
   "outputs": [
    {
     "name": "stdout",
     "output_type": "stream",
     "text": [
      "Введите скорость мотоциклиста, км/ч: 5\n",
      "Введите время в пути, ч: 30\n",
      "41\n"
     ]
    }
   ],
   "source": [
    "v = int(input(\"Введите скорость мотоциклиста, км/ч: \"))\n",
    "t = int(input(\"Введите время в пути, ч: \"))\n",
    "dist = v*t\n",
    "while dist > 109:\n",
    "    dist -= 109\n",
    "print(dist)"
   ]
  },
  {
   "cell_type": "markdown",
   "id": "fb82014f",
   "metadata": {},
   "source": [
    "#### Уровень 3\n",
    "На вход подаются 2 числа. Числа могут быть как целые, так и вещественные. Сравните их значения и найдите наибольшее. Помните, что результатом сравнения является True или False (тип bool). При этом True эквивалентно 1, а False 0 при умножении.\n"
   ]
  },
  {
   "cell_type": "code",
   "execution_count": 8,
   "id": "bcca5723",
   "metadata": {},
   "outputs": [
    {
     "name": "stdout",
     "output_type": "stream",
     "text": [
      "-9.3\n",
      "-163\n",
      "Наибольшее значение -  -9.3\n"
     ]
    }
   ],
   "source": [
    "a,b = input(), input()\n",
    "if a > b:\n",
    "    print('Наибольшее значение:', a)\n",
    "else:\n",
    "    print('Наибольшее значение:', b)"
   ]
  },
  {
   "cell_type": "markdown",
   "id": "638fad20",
   "metadata": {},
   "source": [
    "### Вариант 2"
   ]
  },
  {
   "cell_type": "code",
   "execution_count": 13,
   "id": "de43e893",
   "metadata": {},
   "outputs": [
    {
     "name": "stdout",
     "output_type": "stream",
     "text": [
      "56\n",
      "56.1\n",
      "Наибольшее значение: 56.1\n"
     ]
    }
   ],
   "source": [
    "a,b = float(input()), float(input())\n",
    "lst = [a,b]\n",
    "print(f'Наибольшее значение: {max(lst)}')"
   ]
  },
  {
   "cell_type": "code",
   "execution_count": null,
   "id": "a4efab58",
   "metadata": {},
   "outputs": [],
   "source": []
  },
  {
   "cell_type": "code",
   "execution_count": null,
   "id": "7b424b6d",
   "metadata": {},
   "outputs": [],
   "source": []
  }
 ],
 "metadata": {
  "kernelspec": {
   "display_name": "Python 3 (ipykernel)",
   "language": "python",
   "name": "python3"
  },
  "language_info": {
   "codemirror_mode": {
    "name": "ipython",
    "version": 3
   },
   "file_extension": ".py",
   "mimetype": "text/x-python",
   "name": "python",
   "nbconvert_exporter": "python",
   "pygments_lexer": "ipython3",
   "version": "3.9.12"
  }
 },
 "nbformat": 4,
 "nbformat_minor": 5
}
