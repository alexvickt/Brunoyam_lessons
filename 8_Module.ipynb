{
 "cells": [
  {
   "cell_type": "code",
   "execution_count": 2,
   "id": "f289343f",
   "metadata": {},
   "outputs": [],
   "source": [
    "import pandas as pd"
   ]
  },
  {
   "cell_type": "code",
   "execution_count": 67,
   "id": "d5e9938b",
   "metadata": {},
   "outputs": [],
   "source": [
    "df = pd.read_csv('train.csv')"
   ]
  },
  {
   "cell_type": "code",
   "execution_count": 68,
   "id": "1c45ff0a",
   "metadata": {},
   "outputs": [
    {
     "data": {
      "text/html": [
       "<div>\n",
       "<style scoped>\n",
       "    .dataframe tbody tr th:only-of-type {\n",
       "        vertical-align: middle;\n",
       "    }\n",
       "\n",
       "    .dataframe tbody tr th {\n",
       "        vertical-align: top;\n",
       "    }\n",
       "\n",
       "    .dataframe thead th {\n",
       "        text-align: right;\n",
       "    }\n",
       "</style>\n",
       "<table border=\"1\" class=\"dataframe\">\n",
       "  <thead>\n",
       "    <tr style=\"text-align: right;\">\n",
       "      <th></th>\n",
       "      <th>PassengerId</th>\n",
       "      <th>Survived</th>\n",
       "      <th>Pclass</th>\n",
       "      <th>Name</th>\n",
       "      <th>Sex</th>\n",
       "      <th>Age</th>\n",
       "      <th>SibSp</th>\n",
       "      <th>Parch</th>\n",
       "      <th>Ticket</th>\n",
       "      <th>Fare</th>\n",
       "      <th>Cabin</th>\n",
       "      <th>Embarked</th>\n",
       "    </tr>\n",
       "  </thead>\n",
       "  <tbody>\n",
       "    <tr>\n",
       "      <th>0</th>\n",
       "      <td>1</td>\n",
       "      <td>0</td>\n",
       "      <td>3</td>\n",
       "      <td>Braund, Mr. Owen Harris</td>\n",
       "      <td>male</td>\n",
       "      <td>22.0</td>\n",
       "      <td>1</td>\n",
       "      <td>0</td>\n",
       "      <td>A/5 21171</td>\n",
       "      <td>7.2500</td>\n",
       "      <td>NaN</td>\n",
       "      <td>S</td>\n",
       "    </tr>\n",
       "    <tr>\n",
       "      <th>1</th>\n",
       "      <td>2</td>\n",
       "      <td>1</td>\n",
       "      <td>1</td>\n",
       "      <td>Cumings, Mrs. John Bradley (Florence Briggs Th...</td>\n",
       "      <td>female</td>\n",
       "      <td>38.0</td>\n",
       "      <td>1</td>\n",
       "      <td>0</td>\n",
       "      <td>PC 17599</td>\n",
       "      <td>71.2833</td>\n",
       "      <td>C85</td>\n",
       "      <td>C</td>\n",
       "    </tr>\n",
       "    <tr>\n",
       "      <th>2</th>\n",
       "      <td>3</td>\n",
       "      <td>1</td>\n",
       "      <td>3</td>\n",
       "      <td>Heikkinen, Miss. Laina</td>\n",
       "      <td>female</td>\n",
       "      <td>26.0</td>\n",
       "      <td>0</td>\n",
       "      <td>0</td>\n",
       "      <td>STON/O2. 3101282</td>\n",
       "      <td>7.9250</td>\n",
       "      <td>NaN</td>\n",
       "      <td>S</td>\n",
       "    </tr>\n",
       "    <tr>\n",
       "      <th>3</th>\n",
       "      <td>4</td>\n",
       "      <td>1</td>\n",
       "      <td>1</td>\n",
       "      <td>Futrelle, Mrs. Jacques Heath (Lily May Peel)</td>\n",
       "      <td>female</td>\n",
       "      <td>35.0</td>\n",
       "      <td>1</td>\n",
       "      <td>0</td>\n",
       "      <td>113803</td>\n",
       "      <td>53.1000</td>\n",
       "      <td>C123</td>\n",
       "      <td>S</td>\n",
       "    </tr>\n",
       "    <tr>\n",
       "      <th>4</th>\n",
       "      <td>5</td>\n",
       "      <td>0</td>\n",
       "      <td>3</td>\n",
       "      <td>Allen, Mr. William Henry</td>\n",
       "      <td>male</td>\n",
       "      <td>35.0</td>\n",
       "      <td>0</td>\n",
       "      <td>0</td>\n",
       "      <td>373450</td>\n",
       "      <td>8.0500</td>\n",
       "      <td>NaN</td>\n",
       "      <td>S</td>\n",
       "    </tr>\n",
       "  </tbody>\n",
       "</table>\n",
       "</div>"
      ],
      "text/plain": [
       "   PassengerId  Survived  Pclass  \\\n",
       "0            1         0       3   \n",
       "1            2         1       1   \n",
       "2            3         1       3   \n",
       "3            4         1       1   \n",
       "4            5         0       3   \n",
       "\n",
       "                                                Name     Sex   Age  SibSp  \\\n",
       "0                            Braund, Mr. Owen Harris    male  22.0      1   \n",
       "1  Cumings, Mrs. John Bradley (Florence Briggs Th...  female  38.0      1   \n",
       "2                             Heikkinen, Miss. Laina  female  26.0      0   \n",
       "3       Futrelle, Mrs. Jacques Heath (Lily May Peel)  female  35.0      1   \n",
       "4                           Allen, Mr. William Henry    male  35.0      0   \n",
       "\n",
       "   Parch            Ticket     Fare Cabin Embarked  \n",
       "0      0         A/5 21171   7.2500   NaN        S  \n",
       "1      0          PC 17599  71.2833   C85        C  \n",
       "2      0  STON/O2. 3101282   7.9250   NaN        S  \n",
       "3      0            113803  53.1000  C123        S  \n",
       "4      0            373450   8.0500   NaN        S  "
      ]
     },
     "execution_count": 68,
     "metadata": {},
     "output_type": "execute_result"
    }
   ],
   "source": [
    "df.head()"
   ]
  },
  {
   "cell_type": "code",
   "execution_count": 69,
   "id": "d16d31d9",
   "metadata": {},
   "outputs": [
    {
     "data": {
      "text/plain": [
       "(891, 12)"
      ]
     },
     "execution_count": 69,
     "metadata": {},
     "output_type": "execute_result"
    }
   ],
   "source": [
    "df.shape"
   ]
  },
  {
   "cell_type": "code",
   "execution_count": 70,
   "id": "bf0154aa",
   "metadata": {},
   "outputs": [],
   "source": [
    "df['(0-25]']= df['Age'] <= 25\n",
    "df['(25-50]']= ((df['Age'] > 25) & (df['Age'] <= 50))\n",
    "df['(50->)']= df['Age'] > 50"
   ]
  },
  {
   "cell_type": "code",
   "execution_count": 71,
   "id": "933fc68d",
   "metadata": {},
   "outputs": [],
   "source": [
    "res_1 = round(len(df[(df['(0-25]'] == 1) & (df['Survived'] == 1)])/len(df[(df['(0-25]'] == 1)]), 2)\n",
    "res_2 = round(len(df[(df['(25-50]'] == 1) & (df['Survived'] == 1)])/len(df[(df['(25-50]'] == 1)]), 2)\n",
    "res_3 = round(len(df[(df['(50->)'] == 1) & (df['Survived'] == 1)])/len(df[(df['(50->)'] == 1)]), 2)"
   ]
  },
  {
   "cell_type": "code",
   "execution_count": 72,
   "id": "84c7c092",
   "metadata": {},
   "outputs": [
    {
     "name": "stdout",
     "output_type": "stream",
     "text": [
      "Вероятность выживания, если пассажиру:\n",
      "от 0 до 25 лет     -  0.41\n",
      "от 25 до 50 лет    -  0.41\n",
      "от 50 лет и старше -  0.34\n"
     ]
    }
   ],
   "source": [
    "print('Вероятность выживания, если пассажиру:')\n",
    "print('от 0 до 25 лет     - ', res_1)\n",
    "print('от 25 до 50 лет    - ', res_2)\n",
    "print('от 50 лет и старше - ', res_3)"
   ]
  },
  {
   "cell_type": "code",
   "execution_count": 73,
   "id": "57457591",
   "metadata": {},
   "outputs": [
    {
     "data": {
      "text/html": [
       "<div>\n",
       "<style scoped>\n",
       "    .dataframe tbody tr th:only-of-type {\n",
       "        vertical-align: middle;\n",
       "    }\n",
       "\n",
       "    .dataframe tbody tr th {\n",
       "        vertical-align: top;\n",
       "    }\n",
       "\n",
       "    .dataframe thead th {\n",
       "        text-align: right;\n",
       "    }\n",
       "</style>\n",
       "<table border=\"1\" class=\"dataframe\">\n",
       "  <thead>\n",
       "    <tr style=\"text-align: right;\">\n",
       "      <th></th>\n",
       "      <th>PassengerId</th>\n",
       "      <th>Survived</th>\n",
       "      <th>Pclass</th>\n",
       "      <th>Name</th>\n",
       "      <th>Sex</th>\n",
       "      <th>Age</th>\n",
       "      <th>SibSp</th>\n",
       "      <th>Parch</th>\n",
       "      <th>Ticket</th>\n",
       "      <th>Fare</th>\n",
       "      <th>Cabin</th>\n",
       "      <th>Embarked</th>\n",
       "      <th>(0-25]</th>\n",
       "      <th>(25-50]</th>\n",
       "      <th>(50-&gt;)</th>\n",
       "    </tr>\n",
       "  </thead>\n",
       "  <tbody>\n",
       "    <tr>\n",
       "      <th>0</th>\n",
       "      <td>1</td>\n",
       "      <td>0</td>\n",
       "      <td>3</td>\n",
       "      <td>Braund, Mr. Owen Harris</td>\n",
       "      <td>male</td>\n",
       "      <td>22.0</td>\n",
       "      <td>1</td>\n",
       "      <td>0</td>\n",
       "      <td>A/5 21171</td>\n",
       "      <td>7.2500</td>\n",
       "      <td>NaN</td>\n",
       "      <td>S</td>\n",
       "      <td>True</td>\n",
       "      <td>False</td>\n",
       "      <td>False</td>\n",
       "    </tr>\n",
       "    <tr>\n",
       "      <th>1</th>\n",
       "      <td>2</td>\n",
       "      <td>1</td>\n",
       "      <td>1</td>\n",
       "      <td>Cumings, Mrs. John Bradley (Florence Briggs Th...</td>\n",
       "      <td>female</td>\n",
       "      <td>38.0</td>\n",
       "      <td>1</td>\n",
       "      <td>0</td>\n",
       "      <td>PC 17599</td>\n",
       "      <td>71.2833</td>\n",
       "      <td>C85</td>\n",
       "      <td>C</td>\n",
       "      <td>False</td>\n",
       "      <td>True</td>\n",
       "      <td>False</td>\n",
       "    </tr>\n",
       "    <tr>\n",
       "      <th>2</th>\n",
       "      <td>3</td>\n",
       "      <td>1</td>\n",
       "      <td>3</td>\n",
       "      <td>Heikkinen, Miss. Laina</td>\n",
       "      <td>female</td>\n",
       "      <td>26.0</td>\n",
       "      <td>0</td>\n",
       "      <td>0</td>\n",
       "      <td>STON/O2. 3101282</td>\n",
       "      <td>7.9250</td>\n",
       "      <td>NaN</td>\n",
       "      <td>S</td>\n",
       "      <td>False</td>\n",
       "      <td>True</td>\n",
       "      <td>False</td>\n",
       "    </tr>\n",
       "    <tr>\n",
       "      <th>3</th>\n",
       "      <td>4</td>\n",
       "      <td>1</td>\n",
       "      <td>1</td>\n",
       "      <td>Futrelle, Mrs. Jacques Heath (Lily May Peel)</td>\n",
       "      <td>female</td>\n",
       "      <td>35.0</td>\n",
       "      <td>1</td>\n",
       "      <td>0</td>\n",
       "      <td>113803</td>\n",
       "      <td>53.1000</td>\n",
       "      <td>C123</td>\n",
       "      <td>S</td>\n",
       "      <td>False</td>\n",
       "      <td>True</td>\n",
       "      <td>False</td>\n",
       "    </tr>\n",
       "    <tr>\n",
       "      <th>4</th>\n",
       "      <td>5</td>\n",
       "      <td>0</td>\n",
       "      <td>3</td>\n",
       "      <td>Allen, Mr. William Henry</td>\n",
       "      <td>male</td>\n",
       "      <td>35.0</td>\n",
       "      <td>0</td>\n",
       "      <td>0</td>\n",
       "      <td>373450</td>\n",
       "      <td>8.0500</td>\n",
       "      <td>NaN</td>\n",
       "      <td>S</td>\n",
       "      <td>False</td>\n",
       "      <td>True</td>\n",
       "      <td>False</td>\n",
       "    </tr>\n",
       "  </tbody>\n",
       "</table>\n",
       "</div>"
      ],
      "text/plain": [
       "   PassengerId  Survived  Pclass  \\\n",
       "0            1         0       3   \n",
       "1            2         1       1   \n",
       "2            3         1       3   \n",
       "3            4         1       1   \n",
       "4            5         0       3   \n",
       "\n",
       "                                                Name     Sex   Age  SibSp  \\\n",
       "0                            Braund, Mr. Owen Harris    male  22.0      1   \n",
       "1  Cumings, Mrs. John Bradley (Florence Briggs Th...  female  38.0      1   \n",
       "2                             Heikkinen, Miss. Laina  female  26.0      0   \n",
       "3       Futrelle, Mrs. Jacques Heath (Lily May Peel)  female  35.0      1   \n",
       "4                           Allen, Mr. William Henry    male  35.0      0   \n",
       "\n",
       "   Parch            Ticket     Fare Cabin Embarked  (0-25]  (25-50]  (50->)  \n",
       "0      0         A/5 21171   7.2500   NaN        S    True    False   False  \n",
       "1      0          PC 17599  71.2833   C85        C   False     True   False  \n",
       "2      0  STON/O2. 3101282   7.9250   NaN        S   False     True   False  \n",
       "3      0            113803  53.1000  C123        S   False     True   False  \n",
       "4      0            373450   8.0500   NaN        S   False     True   False  "
      ]
     },
     "execution_count": 73,
     "metadata": {},
     "output_type": "execute_result"
    }
   ],
   "source": [
    "df.head()"
   ]
  },
  {
   "cell_type": "code",
   "execution_count": 121,
   "id": "8920f7e3",
   "metadata": {},
   "outputs": [],
   "source": [
    "# Ищем: вероятность выживших female среди female, вероятность female на борту,\n",
    "#       вероятность выживших male среди male, вероятность male на борту\n",
    "survived_women = len(df[(df['Sex'] == 'female') & (df['Survived'] == 1)]) / len(df[df['Sex'] == 'female'])\n",
    "women = len(df[df['Sex'] == 'female']) / len(df['Sex'])\n",
    "survived_men = len(df[(df['Sex'] == 'male') & (df['Survived'] == 1)]) / len(df[df['Sex'] == 'male'])\n",
    "men = len(df[df['Sex'] == 'male']) / len(df['Sex'])"
   ]
  },
  {
   "cell_type": "code",
   "execution_count": 123,
   "id": "9f8d1b46",
   "metadata": {},
   "outputs": [
    {
     "name": "stdout",
     "output_type": "stream",
     "text": [
      "Вероятность того, что пассажир женского пола, если известно, что он выжил -  0.68\n"
     ]
    }
   ],
   "source": [
    "# применим формулу Байеса\n",
    "res = round(survived_women*women / (survived_women*women + survived_men*men), 2)\n",
    "print('Вероятность того, что пассажир женского пола, если известно, что он выжил - ', res)"
   ]
  },
  {
   "cell_type": "markdown",
   "id": "a8d356de",
   "metadata": {},
   "source": [
    "### Hard\n",
    "Закон распределения задается функцией плотности\n",
    "\n",
    "$ f(x) = \\lambda e^{-\\lambda x}, x > 0 $\n",
    "\n",
    "$ f(x) = 0, x <= 0 $\n",
    "\n",
    "Найти вероятность того, что событие произойдет при x∈[1,2]\n",
    "\n",
    "\n",
    "\n",
    "P.S. в scipy есть функция для интегрирования функции"
   ]
  },
  {
   "cell_type": "markdown",
   "id": "dd476ab8",
   "metadata": {},
   "source": [
    "#### Решение:\n",
    "\n",
    "Наверное, самое сложное здесь, это найти $\\lambda$ )))\n",
    "\n",
    "2-е свойство плотности распределения говорит о том, что несобственный интеграл от ф-ции плотрности распределения в пределах от $-\\infty$ до $+\\infty$ равен 1.\n",
    "\n",
    "Получаем:\n",
    "\n",
    "$\\int^{+\\infty}_{-\\infty}{f(x)}{\\rm d}x = \\int^{0}_{-\\infty}{0}{\\rm d}x + \\int^{+\\infty}_{0}{\\lambda e^{-\\lambda x}}{\\rm d}x$\n",
    "\n",
    "Т.е. $ \\int^{+\\infty}_{0}{\\lambda e^{-\\lambda x}}{\\rm d}x = 1$ и невооруженным взглядом видим, что это работает при $\\lambda = 1$\n",
    "\n",
    "$\\int^{+\\infty}_{0}{e^{-x}}{\\rm d}x = -e^{+\\infty} + e^{0}$ Первое активно стремится к 0, а второе равно 1.\n",
    "\n",
    "Переходим к вероятности...\n",
    "$P(1<= X <= 2) = e^{-1} + e^{-2} = 0.23254415793482963$\n",
    "\n",
    "Проверим..."
   ]
  },
  {
   "cell_type": "code",
   "execution_count": 119,
   "id": "89917bd5",
   "metadata": {},
   "outputs": [
    {
     "name": "stdout",
     "output_type": "stream",
     "text": [
      "(0.23254415793482963, 2.5817587838131664e-15)\n"
     ]
    }
   ],
   "source": [
    "# подключим пакет интегрирования из библиотеки scipy\n",
    "from math import exp\n",
    "from scipy import integrate\n",
    "# опишем подынтегральную функцию\n",
    "def target_function_f(x):\n",
    " return exp(-x)\n",
    "# выполним интегрирование\n",
    "result = integrate.quad(target_function_f, 1, 2)\n",
    "# посмотрим результат\n",
    "print(result)"
   ]
  },
  {
   "cell_type": "code",
   "execution_count": null,
   "id": "d47fceb0",
   "metadata": {},
   "outputs": [],
   "source": []
  }
 ],
 "metadata": {
  "kernelspec": {
   "display_name": "Python 3 (ipykernel)",
   "language": "python",
   "name": "python3"
  },
  "language_info": {
   "codemirror_mode": {
    "name": "ipython",
    "version": 3
   },
   "file_extension": ".py",
   "mimetype": "text/x-python",
   "name": "python",
   "nbconvert_exporter": "python",
   "pygments_lexer": "ipython3",
   "version": "3.9.12"
  }
 },
 "nbformat": 4,
 "nbformat_minor": 5
}
