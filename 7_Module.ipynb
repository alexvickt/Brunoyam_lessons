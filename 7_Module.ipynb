{
 "cells": [
  {
   "cell_type": "markdown",
   "id": "27cea94b",
   "metadata": {},
   "source": [
    "#### Уровень 1\n",
    "Найти производную функции f(x)в точке:\n",
    "\n",
    "$$1. f(x)=sin(\\frac{1}{x}), x_0=5 $$\n",
    "\n",
    "$$2. f(x)=e^{-\\frac{x}{2}}, x_0=2 $$\n",
    "\n",
    "$Найти\\quad∇f\\quadв\\quadточке\\quad x_0:$\n",
    "\n",
    "$$1. f(x)=(x+y)^2 - 3y + 5, x_0=(2, 10) $$\n",
    "\n",
    "$$2. f(x)=(x + y -z)^2 -3(y + z)^2, x_0=(-1, -5, 0) $$\n",
    "\n",
    "Найти ∇f в точке x0:"
   ]
  },
  {
   "cell_type": "markdown",
   "id": "32f9ea70",
   "metadata": {},
   "source": [
    "Не знаю, на бумажке это надо (что для меня проще) или программно. Пойду гуглить, как это сделать програмно...)"
   ]
  },
  {
   "cell_type": "code",
   "execution_count": 53,
   "id": "ad794e73",
   "metadata": {},
   "outputs": [],
   "source": [
    "import sympy as sp\n",
    "import numpy as np\n",
    "from scipy.optimize import minimize"
   ]
  },
  {
   "cell_type": "code",
   "execution_count": 42,
   "id": "e2e3c94b",
   "metadata": {},
   "outputs": [
    {
     "name": "stdout",
     "output_type": "stream",
     "text": [
      "f'(x)= -cos(1/x)/x**2\n",
      "f'(x0)= 0.0392\n"
     ]
    }
   ],
   "source": [
    "# 1. Найти производную функции f(x) в точке sin(1/x), x0=5\n",
    "x = Symbol('x')\n",
    "x0 = 5\n",
    "\n",
    "func_deriv = diff(sin(1/x), x)\n",
    "print(\"f'(x)=\", func_deriv)\n",
    "print(\"f'(x0)=\", round(cos(1/x0)/x0**2, 4))"
   ]
  },
  {
   "cell_type": "code",
   "execution_count": 34,
   "id": "d51add51",
   "metadata": {},
   "outputs": [
    {
     "name": "stdout",
     "output_type": "stream",
     "text": [
      "f'(x)= -exp(-x/2)/2\n",
      "f'(x0)= 0.2194\n"
     ]
    }
   ],
   "source": [
    "# 2. Найти производную функции f(x) в точке f(x)=e^(-x/2), x0=2\n",
    "x = Symbol('x')\n",
    "x0 = 2\n",
    "\n",
    "func_deriv = diff(exp((-x)/2), x)\n",
    "print(\"f'(x)=\", func_deriv)\n",
    "print(\"f'(x0)=\", round(cos(1/x0)/x0**2, 4))"
   ]
  },
  {
   "cell_type": "code",
   "execution_count": 46,
   "id": "c1b1ad9e",
   "metadata": {},
   "outputs": [
    {
     "name": "stdout",
     "output_type": "stream",
     "text": [
      "f'x(x,y)= 2*x + 2*y\n",
      "f'y(x,y)= 2*x + 2*y - 3\n",
      "grad_f=(24, 21)\n"
     ]
    }
   ],
   "source": [
    "# 1. Найти ∇f в точке (x0,y0) = (2, 10)\n",
    "x, y = symbols('x y')\n",
    "x0 = 2\n",
    "y0 = 10\n",
    "f = (x+y)**2 - 3*y +5\n",
    "\n",
    "\n",
    "fx = diff(f, x)\n",
    "fy = diff(f, y)\n",
    "print(\"f'x(x,y)=\", fx)\n",
    "print(\"f'y(x,y)=\", fy)\n",
    "print(\"grad_f=({}, {})\".format(2*x0 + 2*y0, 2*x0 + 2*y0 -3))\n"
   ]
  },
  {
   "cell_type": "markdown",
   "id": "a515a83e",
   "metadata": {},
   "source": [
    "#### Вопрос:\n",
    "Обычно, последовательность указывается как x, y, z. И у вас в самой функции, сохраняется эта же последовательность, а в её объявлении: другой порядок - x, z, y. \n",
    "\n",
    "В задании специально или ошибка???"
   ]
  },
  {
   "cell_type": "code",
   "execution_count": 52,
   "id": "747bb4e3",
   "metadata": {},
   "outputs": [
    {
     "name": "stdout",
     "output_type": "stream",
     "text": [
      "f'x(x, y, z)= 2*x + 2*y - 2*z\n",
      "f'y(x, y, z)= 2*x + 2*y - 2*z - 3\n",
      "f'z(x, y, z)= -2*x - 2*y + 2*z - 3\n",
      "grad_f=(-12, -15, 9)\n"
     ]
    }
   ],
   "source": [
    "# 2. Найти ∇f в точке x0 = (-1, -5, 0)\n",
    "x, y, z = symbols('x y z')\n",
    "x0 = -1\n",
    "y0 = -5\n",
    "z0 = 0\n",
    "f = (x+y-z)**2 - 3*(y+z)\n",
    "\n",
    "\n",
    "fx = diff(f, x)\n",
    "fy = diff(f, y)\n",
    "fz = diff(f, z)\n",
    "print(\"f'x(x, y, z)=\", fx)\n",
    "print(\"f'y(x, y, z)=\", fy)\n",
    "print(\"f'z(x, y, z)=\", fz)\n",
    "print(\"grad_f=({}, {}, {})\".format(2*x0 + 2*y0 - 2*z0, 2*x0 + 2*y0 - 2*z0 - 3, -2*x0 - 2*y0 + 2*z0 - 3))"
   ]
  },
  {
   "cell_type": "markdown",
   "id": "8e0db1a3",
   "metadata": {},
   "source": [
    "#### Уровень 2"
   ]
  },
  {
   "cell_type": "code",
   "execution_count": 54,
   "id": "c0c07e88",
   "metadata": {},
   "outputs": [],
   "source": [
    "def f(x,y):\n",
    "    return (x-3)**2 + (y+5)**2\n",
    "\n",
    "def dfx(x):\n",
    "    return 2*x-6\n",
    "\n",
    "def dfy(y):\n",
    "    return 2*y+10"
   ]
  },
  {
   "cell_type": "code",
   "execution_count": 55,
   "id": "e6a4c31b",
   "metadata": {},
   "outputs": [
    {
     "data": {
      "text/plain": [
       "      fun: 3.913415462088931e-12\n",
       " hess_inv: array([[ 0.96226406, -0.13207561],\n",
       "       [-0.13207561,  0.53773597]])\n",
       "      jac: array([ 3.57147867e-06, -1.71842462e-06])\n",
       "  message: 'Optimization terminated successfully.'\n",
       "     nfev: 12\n",
       "      nit: 3\n",
       "     njev: 4\n",
       "   status: 0\n",
       "  success: True\n",
       "        x: array([ 3.00000178, -5.00000087])"
      ]
     },
     "execution_count": 55,
     "metadata": {},
     "output_type": "execute_result"
    }
   ],
   "source": [
    "x_start = [5, 2]\n",
    "minimize(lambda x: f(x[0], x[1]), (x_start,))"
   ]
  },
  {
   "cell_type": "code",
   "execution_count": 85,
   "id": "325e61dc",
   "metadata": {},
   "outputs": [
    {
     "name": "stdout",
     "output_type": "stream",
     "text": [
      "k= 1.0796290674540709e-08\n",
      "3.0 -4.9999 51\n"
     ]
    }
   ],
   "source": [
    "# мой вариант. Что с ним не так???\n",
    "x, y = 5, 2\n",
    "learning_rate = 0.1\n",
    "eps =1e-8\n",
    "n = 100\n",
    "\n",
    "count = 0\n",
    "while f(x,y) > eps:\n",
    "    k = f(x,y)\n",
    "    x = x - learning_rate * dfx(x)\n",
    "    y = y - learning_rate * dfy(y)\n",
    "    count += 1\n",
    "    if count > n:\n",
    "        break\n",
    "        \n",
    "print('k=', k)\n",
    "print(round(x, 4), round(y, 4), count, sep=' ')"
   ]
  },
  {
   "cell_type": "markdown",
   "id": "ddd44e14",
   "metadata": {},
   "source": [
    "#### Уровень 3\n",
    "Sorry, НЕ СМОГ ПОЛУЧИТЬ ТАКУЮ ЖЕ КАРТИНКУ КАК У ВАС ((("
   ]
  },
  {
   "cell_type": "code",
   "execution_count": null,
   "id": "10e174ba",
   "metadata": {},
   "outputs": [],
   "source": []
  }
 ],
 "metadata": {
  "kernelspec": {
   "display_name": "Python 3 (ipykernel)",
   "language": "python",
   "name": "python3"
  },
  "language_info": {
   "codemirror_mode": {
    "name": "ipython",
    "version": 3
   },
   "file_extension": ".py",
   "mimetype": "text/x-python",
   "name": "python",
   "nbconvert_exporter": "python",
   "pygments_lexer": "ipython3",
   "version": "3.9.12"
  }
 },
 "nbformat": 4,
 "nbformat_minor": 5
}
